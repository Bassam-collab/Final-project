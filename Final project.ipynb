{
  "metadata": {
    "kernelspec": {
      "name": "python",
      "display_name": "Python (Pyodide)",
      "language": "python"
    },
    "language_info": {
      "codemirror_mode": {
        "name": "python",
        "version": 3
      },
      "file_extension": ".py",
      "mimetype": "text/x-python",
      "name": "python",
      "nbconvert_exporter": "python",
      "pygments_lexer": "ipython3",
      "version": "3.8"
    }
  },
  "nbformat_minor": 4,
  "nbformat": 4,
  "cells": [
    {
      "cell_type": "code",
      "source": "import os\nimport string",
      "metadata": {
        "trusted": true
      },
      "outputs": [],
      "execution_count": 1
    },
    {
      "cell_type": "code",
      "source": "file_name = 'text.txt'  \nif file_name in os.listdir():\n    print(f\"Found the file '{file_name}'.\")\nelse:\n    print(f\"File '{file_name}' not found in the current directory.\")\n",
      "metadata": {
        "trusted": true
      },
      "outputs": [
        {
          "name": "stdout",
          "text": "Found the file 'text.txt'.\n",
          "output_type": "stream"
        }
      ],
      "execution_count": 2
    },
    {
      "cell_type": "code",
      "source": "try:\n    with open(file_name, 'r', encoding='utf-8') as file:\n        plaintext = file.read().upper()  \n        if not plaintext:\n            print(\"Warning: The file is empty.\")\n        else:\n            print(f\"Plaintext successfully read: {plaintext[:100]}...\")  \nexcept FileNotFoundError:\n    print(f\"Error: The file '{file_name}' was not found.\")\n    plaintext = \"\"\nexcept Exception as e:\n    print(f\"An error occurred while reading the file: {e}\")\n    plaintext = \"\"\n",
      "metadata": {
        "trusted": true
      },
      "outputs": [
        {
          "name": "stdout",
          "text": "Plaintext successfully read: {\"METADATA\":{\"KERNELSPEC\":{\"NAME\":\"PYTHON\",\"DISPLAY_NAME\":\"PYTHON (PYODIDE)\",\"LANGUAGE\":\"PYTHON\"},\"L...\n",
          "output_type": "stream"
        }
      ],
      "execution_count": 3
    },
    {
      "cell_type": "code",
      "source": "keyword = \"PYTHON\".upper()  \nalphabet = string.ascii_uppercase\nunique_keyword = ''.join(dict.fromkeys(keyword))  \nremaining_letters = ''.join([char for char in alphabet if char not in unique_keyword])  # Get the remaining letters\ncypher_key = unique_keyword + remaining_letters  # Combine keyword and remaining letters\n\nprint(f\"\\nCipher Key: {cypher_key}\")",
      "metadata": {
        "trusted": true
      },
      "outputs": [
        {
          "name": "stdout",
          "text": "\nCipher Key: PYTHONABCDEFGIJKLMQRSUVWXZ\n",
          "output_type": "stream"
        }
      ],
      "execution_count": 4
    },
    {
      "cell_type": "code",
      "source": "ciphertext = \"\"\nletter_map = {alphabet[i]: cypher_key[i] for i in range(len(alphabet))}  \n\nfor char in plaintext:\n    if char.isalpha():\n        ciphertext += letter_map[char]  \n    else:\n        ciphertext += char  \n\nprint(f\"\\nCiphertext: {ciphertext[:100]}...\")",
      "metadata": {
        "trusted": true
      },
      "outputs": [
        {
          "name": "stdout",
          "text": "\nCiphertext: {\"GORPHPRP\":{\"EOMIOFQKOT\":{\"IPGO\":\"KXRBJI\",\"HCQKFPX_IPGO\":\"KXRBJI (KXJHCHO)\",\"FPIASPAO\":\"KXRBJI\"},\"F...\n",
          "output_type": "stream"
        }
      ],
      "execution_count": 5
    },
    {
      "cell_type": "code",
      "source": "grouped_ciphertext = [ciphertext[i:i+5] for i in range(0, len(ciphertext), 5)]\n\nprint(\"\\nGrouped Ciphertext:\")\nfor group in grouped_ciphertext:\n    print(group)",
      "metadata": {
        "trusted": true
      },
      "outputs": [
        {
          "name": "stdout",
          "text": "\nGrouped Ciphertext:\n{\"GOR\nPHPRP\n\":{\"E\nOMIOF\nQKOT\"\n:{\"IP\nGO\":\"\nKXRBJ\nI\",\"H\nCQKFP\nX_IPG\nO\":\"K\nXRBJI\n (KXJ\nHCHO)\n\",\"FP\nIASPA\nO\":\"K\nXRBJI\n\"},\"F\nPIASP\nAO_CI\nNJ\":{\n\"TJHO\nGCMMJ\nM_GJH\nO\":{\"\nIPGO\"\n:\"KXR\nBJI\",\n\"UOMQ\nCJI\":\n3},\"N\nCFO_O\nWROIQ\nCJI\":\n\".KX\"\n,\"GCG\nORXKO\n\":\"RO\nWR/W-\nKXRBJ\nI\",\"I\nPGO\":\n\"KXRB\nJI\",\"\nIYTJI\nUOMR_\nOWKJM\nROM\":\n\"KXRB\nJI\",\"\nKXAGO\nIRQ_F\nOWOM\"\n:\"CKX\nRBJI3\n\",\"UO\nMQCJI\n\":\"3.\n8\"}},\n\"IYNJ\nMGPR_\nGCIJM\n\":4,\"\nIYNJM\nGPR\":\n4,\"TO\nFFQ\":\n[{\"TO\nFF_RX\nKO\":\"\nTJHO\"\n,\"QJS\nMTO\":\n\"CGKJ\nMR QR\nMCIA\"\n,\"GOR\nPHPRP\n\":{\"R\nMSQRO\nH\":RM\nSO},\"\nJSRKS\nRQ\":[\n],\"OW\nOTSRC\nJI_TJ\nSIR\":\n1},{\"\nTOFF_\nRXKO\"\n:\"TJH\nO\",\"Q\nJSMTO\n\":\"\",\n\"GORP\nHPRP\"\n:{\"RM\nSQROH\n\":RMS\nO},\"J\nSRKSR\nQ\":[]\n,\"OWO\nTSRCJ\nI_TJS\nIR\":I\nSFF}]\n}\n",
          "output_type": "stream"
        }
      ],
      "execution_count": 6
    }
  ]
}